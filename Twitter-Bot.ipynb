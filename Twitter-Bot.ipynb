{
 "cells": [
  {
   "cell_type": "code",
   "execution_count": 1,
   "metadata": {},
   "outputs": [],
   "source": [
    "import random"
   ]
  },
  {
   "cell_type": "code",
   "execution_count": 2,
   "metadata": {},
   "outputs": [
    {
     "name": "stdout",
     "output_type": "stream",
     "text": [
      "3\n"
     ]
    }
   ],
   "source": [
    "print(random.randint(0,4))"
   ]
  },
  {
   "cell_type": "code",
   "execution_count": 14,
   "metadata": {},
   "outputs": [
    {
     "name": "stdout",
     "output_type": "stream",
     "text": [
      "[['Hillary,', 'Putin,', 'Obama,', 'Fake News,', 'Mexico,'], ['no tallent', 'on the way down', 'really poor numbers', 'nasty tone'], ['got destroyed by my ratings.', 'rigged the election.', 'had a much smaler crowd.', 'will pay for the wall.'], ['So sad.', 'Apologize', 'Big trouble']]\n"
     ]
    }
   ],
   "source": [
    "part1=[\"Hillary,\", \"Putin,\", \"Obama,\", \"Fake News,\", \"Mexico,\"]\n",
    "part2=[\"no tallent\", \"on the way down\", \"really poor numbers\", \"nasty tone\" ]\n",
    "part3=[\"got destroyed by my ratings.\", \"rigged the election.\", \"had a much smaler crowd.\", \"will pay for the wall.\"]\n",
    "part4=[\"So sad.\", \"Apologize\", \"Big trouble\"]\n",
    "best_words=[part1, part2, part3, part4]\n",
    "print(best_words)"
   ]
  },
  {
   "cell_type": "code",
   "execution_count": 15,
   "metadata": {},
   "outputs": [
    {
     "name": "stdout",
     "output_type": "stream",
     "text": [
      "Obama, really poor numbers got destroyed by my ratings. Apologize!\n"
     ]
    }
   ],
   "source": [
    "sentence = []\n",
    "\n",
    "for part in best_words:\n",
    "    r = random.randint(0,len(part) - 1)\n",
    "    sentence.append(part[r])\n",
    "    \n",
    "print(\" \".join(sentence) + \"!\")"
   ]
  },
  {
   "cell_type": "code",
   "execution_count": null,
   "metadata": {},
   "outputs": [],
   "source": []
  }
 ],
 "metadata": {
  "kernelspec": {
   "display_name": "Python 3",
   "language": "python",
   "name": "python3"
  },
  "language_info": {
   "codemirror_mode": {
    "name": "ipython",
    "version": 3
   },
   "file_extension": ".py",
   "mimetype": "text/x-python",
   "name": "python",
   "nbconvert_exporter": "python",
   "pygments_lexer": "ipython3",
   "version": "3.7.0"
  }
 },
 "nbformat": 4,
 "nbformat_minor": 2
}
